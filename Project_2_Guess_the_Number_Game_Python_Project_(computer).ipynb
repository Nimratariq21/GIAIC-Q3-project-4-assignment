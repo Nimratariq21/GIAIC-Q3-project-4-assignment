{
  "nbformat": 4,
  "nbformat_minor": 0,
  "metadata": {
    "colab": {
      "provenance": [],
      "authorship_tag": "ABX9TyOJNC4NxVv7vu49XcwNRoJC",
      "include_colab_link": true
    },
    "kernelspec": {
      "name": "python3",
      "display_name": "Python 3"
    },
    "language_info": {
      "name": "python"
    }
  },
  "cells": [
    {
      "cell_type": "markdown",
      "metadata": {
        "id": "view-in-github",
        "colab_type": "text"
      },
      "source": [
        "<a href=\"https://colab.research.google.com/github/Nimratariq21/GIAIC-Q3-project-4-assignment/blob/main/Project_2_Guess_the_Number_Game_Python_Project_(computer).ipynb\" target=\"_parent\"><img src=\"https://colab.research.google.com/assets/colab-badge.svg\" alt=\"Open In Colab\"/></a>"
      ]
    },
    {
      "cell_type": "code",
      "execution_count": null,
      "metadata": {
        "colab": {
          "base_uri": "https://localhost:8080/"
        },
        "id": "bQ5mjVJHKRf9",
        "outputId": "3eeea64b-974e-455c-f14a-2b09f46e621c"
      },
      "outputs": [
        {
          "output_type": "stream",
          "name": "stdout",
          "text": [
            "Is 6 too high (H), too low (L), or correct (C)?? c\n",
            "Yay! The computer guessed your number, 6, correctly!\n"
          ]
        }
      ],
      "source": [
        "import random\n",
        "\n",
        "1\n",
        "def computer_guess(x):\n",
        "    low = 1\n",
        "    high = x\n",
        "    feedback = ''\n",
        "    while feedback != 'c':\n",
        "        if low != high:\n",
        "            guess = random.randint(low, high)\n",
        "        else:\n",
        "            guess = low  # could also be high b/c low = high\n",
        "        feedback = input(f'Is {guess} too high (H), too low (L), or correct (C)?? ').lower()\n",
        "        if feedback == 'h':\n",
        "            high = guess - 1\n",
        "        elif feedback == 'l':\n",
        "            low = guess + 1\n",
        "\n",
        "    print(f'Yay! The computer guessed your number, {guess}, correctly!')\n",
        "\n",
        "\n",
        "computer_guess(10)"
      ]
    }
  ]
}